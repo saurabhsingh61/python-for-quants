{
 "cells": [
  {
   "cell_type": "markdown",
   "id": "blessed-disorder",
   "metadata": {},
   "source": [
    "# Statistical Functions for Credit Risk Modelling"
   ]
  },
  {
   "cell_type": "code",
   "execution_count": 1,
   "id": "irish-earthquake",
   "metadata": {},
   "outputs": [],
   "source": [
    "import numpy as np\n",
    "import scipy\n",
    "import math\n",
    "from scipy.stats import norm\n",
    "import scipy.integrate as integrate\n",
    "import numpy.linalg as anp\n",
    "from scipy.stats import t as myT\n",
    "import time\n",
    "from scipy.stats import mvn"
   ]
  },
  {
   "cell_type": "markdown",
   "id": "plastic-allowance",
   "metadata": {},
   "source": [
    "# Some Essential Functions"
   ]
  },
  {
   "cell_type": "code",
   "execution_count": 2,
   "id": "handmade-poison",
   "metadata": {},
   "outputs": [],
   "source": [
    "class myPrinter(object):\n",
    "    def __init__(self, *files):\n",
    "        self.files = files\n",
    "\n",
    "    def write(self, obj):\n",
    "        for f in self.files:\n",
    "            f.write(obj)\n",
    "            f.flush()\n",
    "\n",
    "    def flush(self):\n",
    "        for f in self.files:\n",
    "            f.flush()"
   ]
  },
  {
   "cell_type": "code",
   "execution_count": 3,
   "id": "aggressive-blake",
   "metadata": {},
   "outputs": [],
   "source": [
    "def printLine(R, myString):\n",
    "    M = len(R)\n",
    "    for m in range(0, M):\n",
    "        if m != (M - 1):\n",
    "            print(myString % (R[m]) + \" & \", end=\" \")\n",
    "        else:\n",
    "            print(myString % (R[m]) + \"\\\\\\\\\", end=\"\\n\")"
   ]
  },
  {
   "cell_type": "code",
   "execution_count": 4,
   "id": "coral-customs",
   "metadata": {},
   "outputs": [],
   "source": [
    "def printMatrix(R, myString):\n",
    "    N, M = R.shape\n",
    "    for n in range(0, N):\n",
    "        for m in range(0, M):\n",
    "            if m != (M - 1):\n",
    "                print(myString % (R[n, m]) + \" & \", end=\" \")\n",
    "            else:\n",
    "                print(myString % (R[n, m]) + \"\\\\\\\\\", end=\"\\n\")"
   ]
  },
  {
   "cell_type": "code",
   "execution_count": 5,
   "id": "worldwide-bulgaria",
   "metadata": {},
   "outputs": [],
   "source": [
    "def simulateDefaultProbabilities(N, pMean):\n",
    "    p = (pMean / 1.5) * np.random.chisquare(1.5, N)\n",
    "    return p"
   ]
  },
  {
   "cell_type": "code",
   "execution_count": 6,
   "id": "nuclear-possession",
   "metadata": {},
   "outputs": [],
   "source": [
    "def simulateTenors(N, T):\n",
    "    tenor = np.random.uniform(0.25, T, N)\n",
    "    return tenor"
   ]
  },
  {
   "cell_type": "code",
   "execution_count": 7,
   "id": "covered-treatment",
   "metadata": {},
   "outputs": [],
   "source": [
    "def simulateRegions(N, rStart):\n",
    "    w = np.cumsum(rStart)\n",
    "    u = np.random.uniform(0, 1, N)\n",
    "    myRegion = np.zeros(N)\n",
    "    for n in range(0, N):\n",
    "        if ((u[n] >= 0) & (u[n] <= w[0])):\n",
    "            myRegion[n] = 1\n",
    "        elif ((u[n] > w[0]) & (u[n] <= w[1])):\n",
    "            myRegion[n] = 2\n",
    "        elif (u[n] > w[1]) & (u[n] <= 1):\n",
    "            myRegion[n] = 3\n",
    "    return myRegion"
   ]
  },
  {
   "cell_type": "code",
   "execution_count": 8,
   "id": "logical-investment",
   "metadata": {},
   "outputs": [],
   "source": [
    "def simulateExposures(N, portfolioSize):\n",
    "    w = np.random.weibull(1, N)\n",
    "    c = portfolioSize * np.divide(w, np.sum(w))\n",
    "    return c"
   ]
  },
  {
   "cell_type": "code",
   "execution_count": 9,
   "id": "proved-aspect",
   "metadata": {},
   "outputs": [],
   "source": [
    "def computeRiskMeasures(M, lossDistribution, alpha):\n",
    "    expectedLoss = np.mean(lossDistribution)\n",
    "    unExpectedLoss = np.std(lossDistribution)\n",
    "    expectedShortfall = np.zeros([len(alpha)])\n",
    "    var = np.zeros([len(alpha)])\n",
    "    for n in range(0, len(alpha)):\n",
    "        expectedShortfall[n] = np.mean(lossDistribution[np.ceil(alpha[n] * (M - 1)).astype(int):M - 1])\n",
    "        var[n] = lossDistribution[np.ceil(alpha[n] * (M - 1)).astype(int)]\n",
    "    return expectedLoss, unExpectedLoss, var, expectedShortfall"
   ]
  },
  {
   "cell_type": "code",
   "execution_count": 10,
   "id": "indonesian-steering",
   "metadata": {},
   "outputs": [],
   "source": [
    "def analyticExpectedShortfall(N, alpha, pmf, c):\n",
    "    cdf = np.cumsum(pmf)\n",
    "    numberDefaults = np.linspace(0, N, N + 1)\n",
    "    expectedShortfall = np.zeros(len(alpha))\n",
    "    for n in range(0, len(alpha)):\n",
    "        myAlpha = np.linspace(alpha[n], 1, 1000)\n",
    "        nanCheck = ~np.isnan(pmf)\n",
    "        loss = c * np.interp(myAlpha, cdf[nanCheck], numberDefaults[nanCheck])\n",
    "        prob = np.interp(loss, numberDefaults[nanCheck], pmf[nanCheck])\n",
    "        expectedShortfall[n] = np.dot(loss, prob) / np.sum(prob)\n",
    "    return expectedShortfall"
   ]
  },
  {
   "cell_type": "code",
   "execution_count": 11,
   "id": "excellent-license",
   "metadata": {},
   "outputs": [],
   "source": [
    "def generateGamma(a, b, N):\n",
    "    G1 = np.random.gamma(a, 1, N)\n",
    "    G2 = np.random.gamma(b, 1, N)\n",
    "    Z = np.divide(G1, G1 + G2)\n",
    "    return Z"
   ]
  },
  {
   "cell_type": "code",
   "execution_count": 12,
   "id": "subjective-point",
   "metadata": {},
   "outputs": [],
   "source": [
    "def computeBeta(a, b):\n",
    "    Ga = math.gamma(a)\n",
    "    Gb = math.gamma(b)\n",
    "    Gab = math.gamma(a + b)\n",
    "    return (Ga * Gb) / Gab"
   ]
  },
  {
   "cell_type": "code",
   "execution_count": 13,
   "id": "sought-intermediate",
   "metadata": {},
   "outputs": [],
   "source": [
    "def logitDensity(z, mu, sigma):\n",
    "    num = np.log(z / (1 - z)) - mu\n",
    "    den = 2 * (sigma ** 2)\n",
    "    K = np.reciprocal(sigma * np.sqrt(2 * math.pi) * z * (1 - z))\n",
    "    f = K * np.exp(-np.divide(num ** 2, den))\n",
    "    return f"
   ]
  },
  {
   "cell_type": "code",
   "execution_count": 14,
   "id": "material-glucose",
   "metadata": {},
   "outputs": [],
   "source": [
    "def probitDensity(z, mu, sigma):\n",
    "    pzInverse = np.divide(norm.ppf(z) - mu, sigma)\n",
    "    num = gaussianDensity(pzInverse, 0, 1)\n",
    "    den = sigma * gaussianDensity(norm.ppf(z), 0, 1)\n",
    "    f = np.divide(num, den)\n",
    "    return f"
   ]
  },
  {
   "cell_type": "code",
   "execution_count": 15,
   "id": "finished-medline",
   "metadata": {},
   "outputs": [],
   "source": [
    "def gaussianDensity(z, mu, sigma):\n",
    "    num = z - mu\n",
    "    den = 2 * (sigma ** 2)\n",
    "    K = np.reciprocal(np.sqrt(2 * math.pi) * sigma)\n",
    "    f = K * np.exp(-np.divide(num ** 2, den))\n",
    "    return f"
   ]
  },
  {
   "cell_type": "code",
   "execution_count": 16,
   "id": "bibliographic-charles",
   "metadata": {},
   "outputs": [],
   "source": [
    "# def logGaussianDensity(z,mu,sigma):\n",
    "#    num = np.log(z)-mu\n",
    "#    den = 2*(sigma**2)\n",
    "#    K = np.reciprocal(np.multiply(np.sqrt(2*math.pi)*sigma,z))\n",
    "#    f = K*np.exp(-np.divide(num**2,den))\n",
    "#    return f"
   ]
  },
  {
   "cell_type": "code",
   "execution_count": 17,
   "id": "modified-mayor",
   "metadata": {},
   "outputs": [],
   "source": [
    "def tDensity(z, mu, sigma, nu):\n",
    "    g1 = math.gamma((nu + 1) / 2)\n",
    "    g2 = math.gamma(nu / 2)\n",
    "    K = np.divide(g1, g2 * np.sqrt(nu * math.pi) * sigma)\n",
    "    power = np.divide((z - mu) ** 2, nu * (sigma ** 2))\n",
    "    f = K * np.power(1 + power, -(nu + 1) / 2)\n",
    "    return f"
   ]
  },
  {
   "cell_type": "code",
   "execution_count": 18,
   "id": "formal-jacob",
   "metadata": {},
   "outputs": [],
   "source": [
    "def chi2Density(z, nu):\n",
    "    g1 = math.gamma(nu / 2)\n",
    "    constant = np.multiply(g1, 2 ** (nu / 2))\n",
    "    term1 = np.power(z, (nu / 2) - 1)\n",
    "    term2 = np.exp(-z / 2)\n",
    "    f = np.reciprocal(constant) * term1 * term2\n",
    "    return f"
   ]
  },
  {
   "cell_type": "code",
   "execution_count": 19,
   "id": "selective-alexander",
   "metadata": {},
   "outputs": [],
   "source": [
    "def gigDensity(x, myA):\n",
    "    constant = np.divide(1, 2 * scipy.special.kn(1, myA))\n",
    "    f = constant * np.exp(-0.5 * myA * (x + 1 / x))\n",
    "    return f"
   ]
  },
  {
   "cell_type": "code",
   "execution_count": 20,
   "id": "published-jacob",
   "metadata": {},
   "outputs": [],
   "source": [
    "def betaDensity(z, a, b):\n",
    "    term1 = np.power(z, a - 1)\n",
    "    term2 = np.power(1 - z, b - 1)\n",
    "    f = np.reciprocal(computeBeta(a, b)) * term1 * term2\n",
    "    return f"
   ]
  },
  {
   "cell_type": "code",
   "execution_count": 21,
   "id": "certain-portugal",
   "metadata": {},
   "outputs": [],
   "source": [
    "def asrfDensity(x, p, rho):\n",
    "    a = np.sqrt(np.divide(1 - rho, rho))\n",
    "    b = np.power(np.sqrt(1 - rho) * norm.ppf(x) - norm.ppf(p), 2)\n",
    "    c = 0.5 * (np.power(norm.ppf(x), 2) - b / rho)\n",
    "    return a * np.exp(c)"
   ]
  },
  {
   "cell_type": "code",
   "execution_count": 22,
   "id": "becoming-alert",
   "metadata": {},
   "outputs": [],
   "source": [
    "def getBC(N, k):\n",
    "    a = scipy.misc.factorial(N)\n",
    "    b = scipy.misc.factorial(N - k)\n",
    "    c = scipy.misc.factorial(k)\n",
    "    return a / (b * c)"
   ]
  },
  {
   "cell_type": "code",
   "execution_count": 23,
   "id": "charged-sunset",
   "metadata": {},
   "outputs": [],
   "source": [
    "def poissonDensity(lam, k):\n",
    "    a = np.exp(-lam)\n",
    "    b = np.power(lam, k)\n",
    "    c = math.factorial(k)\n",
    "    pmf = np.divide(a * b, c)\n",
    "    return pmf"
   ]
  },
  {
   "cell_type": "code",
   "execution_count": 24,
   "id": "strange-occurrence",
   "metadata": {},
   "outputs": [],
   "source": [
    "def binomialDensity(N, p, k):\n",
    "    a = p ** k\n",
    "    b = (1 - p) ** (N - k)\n",
    "    pmf = getBC(N, k) * a * b\n",
    "    return pmf"
   ]
  },
  {
   "cell_type": "code",
   "execution_count": 25,
   "id": "developmental-recruitment",
   "metadata": {},
   "outputs": [],
   "source": [
    "def gammaDensity(z, a, b):\n",
    "    constant = np.divide(b ** a, math.gamma(a))\n",
    "    t1 = np.exp(-b * z)\n",
    "    t2 = np.power(z, a - 1)\n",
    "    pdf = constant * t1 * t2\n",
    "    return pdf"
   ]
  },
  {
   "cell_type": "code",
   "execution_count": 26,
   "id": "ceramic-alias",
   "metadata": {},
   "outputs": [],
   "source": [
    "def logNormalDensity(z, mu, sigma):\n",
    "    constant = np.divide(1, z * sigma * np.sqrt(2 * math.pi))\n",
    "    num = -(np.log(z) - mu) ** 2\n",
    "    den = 2 * sigma ** 2\n",
    "    pdf = constant * np.exp(num / den)\n",
    "    return pdf"
   ]
  },
  {
   "cell_type": "code",
   "execution_count": 27,
   "id": "grand-ocean",
   "metadata": {},
   "outputs": [],
   "source": [
    "def weibullDensity(x, a, b):\n",
    "    return (a / b) * (x / b) ** (a - 1) * np.exp(-(x / b) ** a)"
   ]
  }
 ],
 "metadata": {
  "kernelspec": {
   "display_name": "Python 3",
   "language": "python",
   "name": "python3"
  },
  "language_info": {
   "codemirror_mode": {
    "name": "ipython",
    "version": 3
   },
   "file_extension": ".py",
   "mimetype": "text/x-python",
   "name": "python",
   "nbconvert_exporter": "python",
   "pygments_lexer": "ipython3",
   "version": "3.8.5"
  }
 },
 "nbformat": 4,
 "nbformat_minor": 5
}
